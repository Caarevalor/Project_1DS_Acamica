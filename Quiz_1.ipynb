{
  "nbformat": 4,
  "nbformat_minor": 0,
  "metadata": {
    "colab": {
      "name": "Quiz_1.ipynb",
      "provenance": [],
      "authorship_tag": "ABX9TyOoB2axIgtjWNEGuG+Sd4vD",
      "include_colab_link": true
    },
    "kernelspec": {
      "name": "python3",
      "display_name": "Python 3"
    }
  },
  "cells": [
    {
      "cell_type": "markdown",
      "metadata": {
        "id": "view-in-github",
        "colab_type": "text"
      },
      "source": [
        "<a href=\"https://colab.research.google.com/github/Caarevalor/Python_Datascience_Notebooks/blob/main/Quiz_1.ipynb\" target=\"_parent\"><img src=\"https://colab.research.google.com/assets/colab-badge.svg\" alt=\"Open In Colab\"/></a>"
      ]
    },
    {
      "cell_type": "markdown",
      "metadata": {
        "id": "6Zp4NcPyUwzs"
      },
      "source": [
        "# Quiz Week 1\n"
      ]
    },
    {
      "cell_type": "code",
      "metadata": {
        "colab": {
          "base_uri": "https://localhost:8080/"
        },
        "id": "DHqMm3HZUvtV",
        "outputId": "3fdfc963-6595-464f-b0bf-a4ed5b5929fb"
      },
      "source": [
        "import re\n",
        "string = 'bat, lat, mat, bet, let, met, bit, lit, mit, bot, lot, mot'\n",
        "result = re.findall('b[ao]t', string)\n",
        "print(result)"
      ],
      "execution_count": null,
      "outputs": [
        {
          "output_type": "stream",
          "text": [
            "['bat', 'bot']\n"
          ],
          "name": "stdout"
        }
      ]
    },
    {
      "cell_type": "code",
      "metadata": {
        "colab": {
          "base_uri": "https://localhost:8080/"
        },
        "id": "1gE9V6OuWV7O",
        "outputId": "0a4addea-3b58-49c2-fbd5-1e90eea0e20a"
      },
      "source": [
        "##2 \n",
        "import numpy as np\n",
        "a1 = np.random.rand(4)\n",
        "a2 = np.random.rand(4, 1)\n",
        "a3 = np.array([[1, 2, 3, 4]])\n",
        "a4 = np.arange(1, 4, 1)\n",
        "a5 = np.linspace(1 ,4, 4)\n",
        "print(a1)\n",
        "print(a2)\n",
        "print(a3)\n",
        "print(a4)\n",
        "print(a5)\n",
        "print(a4.ndim)"
      ],
      "execution_count": null,
      "outputs": [
        {
          "output_type": "stream",
          "text": [
            "[0.04708498 0.88291075 0.62932622 0.83553084]\n",
            "[[0.85629311]\n",
            " [0.24130359]\n",
            " [0.99695599]\n",
            " [0.99874912]]\n",
            "[[1 2 3 4]]\n",
            "[1 2 3]\n",
            "[1. 2. 3. 4.]\n",
            "1\n"
          ],
          "name": "stdout"
        }
      ]
    },
    {
      "cell_type": "code",
      "metadata": {
        "colab": {
          "base_uri": "https://localhost:8080/"
        },
        "id": "UdcEocAqXR7l",
        "outputId": "5ec625ae-4864-4812-aab9-98c984997e7e"
      },
      "source": [
        "#3\n",
        "import numpy as np\n",
        "old = np.array([[1, 1, 1], [1, 1, 1]])\n",
        "new = old\n",
        "new[0, :2] = 0\n",
        "print(old)"
      ],
      "execution_count": null,
      "outputs": [
        {
          "output_type": "stream",
          "text": [
            "[[0 0 1]\n",
            " [1 1 1]]\n"
          ],
          "name": "stdout"
        }
      ]
    },
    {
      "cell_type": "code",
      "metadata": {
        "colab": {
          "base_uri": "https://localhost:8080/"
        },
        "id": "OrI678B5XnsS",
        "outputId": "1d4dab48-35de-43a7-b65d-544654367e7c"
      },
      "source": [
        "#4\n",
        "import re\n",
        "s = 'ACBCAC'\n",
        "re.findall('^AC',s)"
      ],
      "execution_count": null,
      "outputs": [
        {
          "output_type": "execute_result",
          "data": {
            "text/plain": [
              "['BC']"
            ]
          },
          "metadata": {
            "tags": []
          },
          "execution_count": 13
        }
      ]
    },
    {
      "cell_type": "code",
      "metadata": {
        "colab": {
          "base_uri": "https://localhost:8080/"
        },
        "id": "nlCV2X7iYbEm",
        "outputId": "8f3b0a9a-a822-4caf-e6a9-bed27dc623c6"
      },
      "source": [
        "import re\n",
        "\n",
        "s = 'ACAABAACAAAB'\n",
        "result = re.findall('A{1,2}', s)\n",
        "L = len(result)\n",
        "print(L)"
      ],
      "execution_count": null,
      "outputs": [
        {
          "output_type": "stream",
          "text": [
            "0\n"
          ],
          "name": "stdout"
        }
      ]
    },
    {
      "cell_type": "code",
      "metadata": {
        "colab": {
          "base_uri": "https://localhost:8080/"
        },
        "id": "SKA8UWPSaV3C",
        "outputId": "d4c0a7c7-9947-4899-94b3-4caff5ecd6a0"
      },
      "source": [
        "text='Office of Research Administration: (734) 647-6333 | 4325 North Quad Office of Budget and Financial Administration: (734) 647-8044 | 309 Maynard, Suite 205 Health Informatics Program: (734) 763-2285 | 333 Maynard, Suite 500 Office of the Dean: (734) 647-3576 | 4322 North Quad UMSI Engagement Center: (734) 763-1251 | 777 North University Faculty Adminstrative Support Staff: (734) 764-9376 | 4322 North Quad'\n",
        "#re.findall(\"\\d{3}[-]\\d{3}[-]\\d{4}\",text)\n",
        "#re.findall(\"[(]\\d{3}[)]\\d{3}[-]\\d{4}\",text)\n",
        "re.findall(\"[(]\\d{3}[)]\\s\\d{3}[-]\\d{4}\",text)\n",
        "#numbers= re.findall('\\d{3}\\s\\d{3}[-]\\d{4}',text)\n",
        "#re.findall(\"\\d{3}\\s\\d{3}[-]\\d{4}\",text)"
      ],
      "execution_count": null,
      "outputs": [
        {
          "output_type": "execute_result",
          "data": {
            "text/plain": [
              "['(734) 647-6333',\n",
              " '(734) 647-8044',\n",
              " '(734) 763-2285',\n",
              " '(734) 647-3576',\n",
              " '(734) 763-1251',\n",
              " '(734) 764-9376']"
            ]
          },
          "metadata": {
            "tags": []
          },
          "execution_count": 39
        }
      ]
    },
    {
      "cell_type": "code",
      "metadata": {
        "colab": {
          "base_uri": "https://localhost:8080/"
        },
        "id": "1DjUECpsemkh",
        "outputId": "ab00b828-da42-4cb1-df60-b49e9c046c5c"
      },
      "source": [
        "text2='I refer to https://google.com and I never refer http://www.baidu.com if I have to search anything'\n",
        "re.findall(\"(?<=[https]:\\/\\/)([A-Za-z0-9.]*)\",text2)\n",
        "#re.findall(\"(?<=https:\\/\\/)([A-Za-z0-9.]*)\",text2) ## no tiene corchetes coge solo si esta escrito https\n",
        "#re.findall(\"(?<=https:\\/\\/)([A-Za-z0-9]*)\",text2) #le quita el punto, solo me da e nombre\n",
        "#re.findall(\"(?<=https:\\/\\/)([.]*)\",text2)"
      ],
      "execution_count": null,
      "outputs": [
        {
          "output_type": "execute_result",
          "data": {
            "text/plain": [
              "['google.com', 'www.baidu.com']"
            ]
          },
          "metadata": {
            "tags": []
          },
          "execution_count": 45
        }
      ]
    },
    {
      "cell_type": "code",
      "metadata": {
        "colab": {
          "base_uri": "https://localhost:8080/"
        },
        "id": "JCcTvEvchfmz",
        "outputId": "67a0961e-dad9-4785-cad5-5da21aa68a52"
      },
      "source": [
        "text3=r'''Everyone has the following fundamental freedoms:\n",
        "(a) freedom of conscience and religion;\n",
        "(b) freedom of thought, belief, opinion and expression, including freedom of the press and other media of communication;\n",
        "(c) freedom of peaceful assembly; and\n",
        "(d) freedom of association.\n",
        "'''\n",
        "import re\n",
        "\n",
        "#pattern = '\\(.\\) '\n",
        "#pattern = '(.) '\n",
        "pattern = '[a-d]'\n",
        "print(len(re.findall(pattern,text3)))"
      ],
      "execution_count": null,
      "outputs": [
        {
          "output_type": "stream",
          "text": [
            "40\n"
          ],
          "name": "stdout"
        }
      ]
    }
  ]
}