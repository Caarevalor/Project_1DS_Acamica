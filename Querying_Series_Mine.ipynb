{
  "nbformat": 4,
  "nbformat_minor": 0,
  "metadata": {
    "colab": {
      "name": "Querying_Series_Mine.ipynb",
      "provenance": [],
      "authorship_tag": "ABX9TyPIAnTI0Dlrod4/rwyXN14V",
      "include_colab_link": true
    },
    "kernelspec": {
      "name": "python3",
      "display_name": "Python 3"
    }
  },
  "cells": [
    {
      "cell_type": "markdown",
      "metadata": {
        "id": "view-in-github",
        "colab_type": "text"
      },
      "source": [
        "<a href=\"https://colab.research.google.com/github/Caarevalor/Python_Datascience_Notebooks/blob/main/Querying_Series_Mine.ipynb\" target=\"_parent\"><img src=\"https://colab.research.google.com/assets/colab-badge.svg\" alt=\"Open In Colab\"/></a>"
      ]
    },
    {
      "cell_type": "markdown",
      "metadata": {
        "id": "Ia9TPgNcr2Ou"
      },
      "source": [
        "# Consultando Series"
      ]
    },
    {
      "cell_type": "code",
      "metadata": {
        "colab": {
          "base_uri": "https://localhost:8080/"
        },
        "id": "90ObNA3prskQ",
        "outputId": "d2286992-83fe-414c-b609-7dd158c8782c"
      },
      "source": [
        "import pandas as pd\n",
        "students_classes={'Alice': 'Physics',\n",
        "                  'Jack': 'Chemistry',\n",
        "                  'Molly': 'English',\n",
        "                  'Sam': 'History'}\n",
        "s=pd.Series(students_classes)\n",
        "s"
      ],
      "execution_count": null,
      "outputs": [
        {
          "output_type": "execute_result",
          "data": {
            "text/plain": [
              "Alice      Physics\n",
              "Jack     Chemistry\n",
              "Molly      English\n",
              "Sam        History\n",
              "dtype: object"
            ]
          },
          "metadata": {
            "tags": []
          },
          "execution_count": 2
        }
      ]
    },
    {
      "cell_type": "code",
      "metadata": {
        "colab": {
          "base_uri": "https://localhost:8080/",
          "height": 35
        },
        "id": "CQxzvFa0s0Z6",
        "outputId": "0dd4955e-afe0-4ce2-ba83-dd85f84f2ee5"
      },
      "source": [
        "## se puede hacer consultas con el numero de campo usando iloc\n",
        "s.iloc[3]"
      ],
      "execution_count": null,
      "outputs": [
        {
          "output_type": "execute_result",
          "data": {
            "application/vnd.google.colaboratory.intrinsic+json": {
              "type": "string"
            },
            "text/plain": [
              "'History'"
            ]
          },
          "metadata": {
            "tags": []
          },
          "execution_count": 3
        }
      ]
    },
    {
      "cell_type": "code",
      "metadata": {
        "colab": {
          "base_uri": "https://localhost:8080/",
          "height": 35
        },
        "id": "hIkQOFumtFBn",
        "outputId": "3629e684-862b-40d9-fce6-91dfe5efa317"
      },
      "source": [
        "#ahora si queremos averiguar la clase de Molly, usamos loc\n",
        "s.loc['Molly']\n",
        "##iloc y loc no son metodos, son atributos por eso no se usa ()\n",
        "##si no corchetes, porque es una indexacion"
      ],
      "execution_count": null,
      "outputs": [
        {
          "output_type": "execute_result",
          "data": {
            "application/vnd.google.colaboratory.intrinsic+json": {
              "type": "string"
            },
            "text/plain": [
              "'English'"
            ]
          },
          "metadata": {
            "tags": []
          },
          "execution_count": 4
        }
      ]
    },
    {
      "cell_type": "code",
      "metadata": {
        "colab": {
          "base_uri": "https://localhost:8080/",
          "height": 35
        },
        "id": "QKx_RYeotRkU",
        "outputId": "b85b77c9-8b03-4852-cc6a-0d88bf4cb9d2"
      },
      "source": [
        "s[3]"
      ],
      "execution_count": null,
      "outputs": [
        {
          "output_type": "execute_result",
          "data": {
            "application/vnd.google.colaboratory.intrinsic+json": {
              "type": "string"
            },
            "text/plain": [
              "'History'"
            ]
          },
          "metadata": {
            "tags": []
          },
          "execution_count": 5
        }
      ]
    },
    {
      "cell_type": "code",
      "metadata": {
        "colab": {
          "base_uri": "https://localhost:8080/",
          "height": 35
        },
        "id": "bqXK6mJ8tzVU",
        "outputId": "d3652854-3b57-4ed1-c56a-0e6096007c67"
      },
      "source": [
        "s['Molly']"
      ],
      "execution_count": null,
      "outputs": [
        {
          "output_type": "execute_result",
          "data": {
            "application/vnd.google.colaboratory.intrinsic+json": {
              "type": "string"
            },
            "text/plain": [
              "'English'"
            ]
          },
          "metadata": {
            "tags": []
          },
          "execution_count": 6
        }
      ]
    },
    {
      "cell_type": "code",
      "metadata": {
        "colab": {
          "base_uri": "https://localhost:8080/",
          "height": 35
        },
        "id": "_teZ4AnOuEiN",
        "outputId": "9249be5f-8032-46ba-e843-cb516cac9e59"
      },
      "source": [
        "##lo mejor es usar iloc, debido a que python no sabe si se esta indexando con sobre un index label o un label \n",
        "class_code={99: 'Physics',\n",
        "            100: 'Chemistry',\n",
        "            101: 'English',\n",
        "            102: 'History'}\n",
        "s=pd.Series(class_code)\n",
        "##por ejemplo si usamos\n",
        "# s[0]--> nos va a dar error, no lo encuentra y no sabe que nos referimos iloc\n",
        "s.iloc[0]"
      ],
      "execution_count": null,
      "outputs": [
        {
          "output_type": "execute_result",
          "data": {
            "application/vnd.google.colaboratory.intrinsic+json": {
              "type": "string"
            },
            "text/plain": [
              "'Physics'"
            ]
          },
          "metadata": {
            "tags": []
          },
          "execution_count": 7
        }
      ]
    },
    {
      "cell_type": "code",
      "metadata": {
        "colab": {
          "base_uri": "https://localhost:8080/"
        },
        "id": "8HiRk-d6vBCn",
        "outputId": "66d5c3d5-f487-45ca-a043-b2754b2b73f3"
      },
      "source": [
        "##ahora tratemos de hace run promedio sobre una serie\n",
        "grades=pd.Series([90, 80,70,60])\n",
        "total=0\n",
        "for grade in grades:\n",
        "  total+= grade\n",
        "print(total/len(grades))  "
      ],
      "execution_count": null,
      "outputs": [
        {
          "output_type": "stream",
          "text": [
            "75.0\n"
          ],
          "name": "stdout"
        }
      ]
    },
    {
      "cell_type": "code",
      "metadata": {
        "colab": {
          "base_uri": "https://localhost:8080/"
        },
        "id": "ROUjYOHXvmSP",
        "outputId": "19d5ec21-f6c3-4f1e-bd38-dd39b86f802c"
      },
      "source": [
        "##aunque lo anterior es lo comun, hoy en dia las computadoras ya tienen funciones \n",
        "#que realicen esto de manera mas directa, ademas contando con el uso subyacente de \n",
        "# de librerias como Numpy, vamos a ver\n",
        "import numpy as np\n",
        "total= np.sum(grades)\n",
        "print(total/len(grades))"
      ],
      "execution_count": null,
      "outputs": [
        {
          "output_type": "stream",
          "text": [
            "75.0\n"
          ],
          "name": "stdout"
        }
      ]
    },
    {
      "cell_type": "code",
      "metadata": {
        "colab": {
          "base_uri": "https://localhost:8080/"
        },
        "id": "GL1uiPVzwJev",
        "outputId": "6cab602d-892a-4865-81b4-1bdcf0e9521f"
      },
      "source": [
        "##ambos metodos nos dan el mismo resultado, pero cual es mas rapido?\n",
        "#vamos a averiguar haciendo uso de pandas, primero creemos un vector grande de numeros\n",
        "numbers=pd.Series(np.random.randint(0,1000,10000))\n",
        "print(numbers.head())\n",
        "print(len(numbers))\n"
      ],
      "execution_count": null,
      "outputs": [
        {
          "output_type": "stream",
          "text": [
            "0    156\n",
            "1    872\n",
            "2    342\n",
            "3    874\n",
            "4    771\n",
            "dtype: int64\n",
            "10000\n"
          ],
          "name": "stdout"
        }
      ]
    },
    {
      "cell_type": "code",
      "metadata": {
        "colab": {
          "base_uri": "https://localhost:8080/"
        },
        "id": "dSxQf1KHxA6U",
        "outputId": "ef55d4b9-ef35-4f1e-e6e3-3b7e002e9ec3"
      },
      "source": [
        "##ahora vamos a usar una magic function apra calcular el tiempo\n",
        "#recordar que las magicfunctions se invocan el caracter %\n",
        "%%timeit -n 100\n",
        "total=0\n",
        "for number in numbers:\n",
        "  total+= number\n",
        "total/len(numbers)  \n"
      ],
      "execution_count": null,
      "outputs": [
        {
          "output_type": "stream",
          "text": [
            "100 loops, best of 3: 1.3 ms per loop\n"
          ],
          "name": "stdout"
        }
      ]
    },
    {
      "cell_type": "code",
      "metadata": {
        "colab": {
          "base_uri": "https://localhost:8080/"
        },
        "id": "N3aIeOjxyYhr",
        "outputId": "af0e0251-ce6b-4b21-cda6-a5e959513067"
      },
      "source": [
        "## ahora miremos con vectorizacion\n",
        "%%timeit -n 100\n",
        "total=np.sum(numbers)\n",
        "total/len(numbers)  "
      ],
      "execution_count": null,
      "outputs": [
        {
          "output_type": "stream",
          "text": [
            "100 loops, best of 3: 90.3 µs per loop\n"
          ],
          "name": "stdout"
        }
      ]
    },
    {
      "cell_type": "code",
      "metadata": {
        "colab": {
          "base_uri": "https://localhost:8080/"
        },
        "id": "1o5i-I0DDFWM",
        "outputId": "4ef92441-ca43-4b3f-fcbb-6bc7382e5346"
      },
      "source": [
        "##como vemos usando la vectorizacion de numpy es increiblemente mas rapida\n",
        "##por otro lado existe una herramienta Boradcasting de numpy que nos permite\n",
        "#modificar cad auno de los elementos del array\n",
        "\n",
        "numbers.head()"
      ],
      "execution_count": null,
      "outputs": [
        {
          "output_type": "execute_result",
          "data": {
            "text/plain": [
              "0    156\n",
              "1    872\n",
              "2    342\n",
              "3    874\n",
              "4    771\n",
              "dtype: int64"
            ]
          },
          "metadata": {
            "tags": []
          },
          "execution_count": 13
        }
      ]
    },
    {
      "cell_type": "code",
      "metadata": {
        "colab": {
          "base_uri": "https://localhost:8080/"
        },
        "id": "wXuXbZXFDUVw",
        "outputId": "8e21bf8b-e69d-4b0c-ac7e-edc652555976"
      },
      "source": [
        "## ahora dupliquemos los elementos de la serie\n",
        "numbers+=2\n",
        "numbers"
      ],
      "execution_count": null,
      "outputs": [
        {
          "output_type": "execute_result",
          "data": {
            "text/plain": [
              "0       158\n",
              "1       874\n",
              "2       344\n",
              "3       876\n",
              "4       773\n",
              "       ... \n",
              "9995    175\n",
              "9996    225\n",
              "9997    760\n",
              "9998    452\n",
              "9999    113\n",
              "Length: 10000, dtype: int64"
            ]
          },
          "metadata": {
            "tags": []
          },
          "execution_count": 14
        }
      ]
    },
    {
      "cell_type": "code",
      "metadata": {
        "colab": {
          "base_uri": "https://localhost:8080/",
          "height": 333
        },
        "id": "qxq6dlCfEUBY",
        "outputId": "2763713a-2f61-4343-9c46-7634c3b37e2c"
      },
      "source": [
        "##pandas permite la iteracion a traves de los objetos, como si fuera un diccionario:\n",
        "# podemos usar iteritems que devuelve la etiqueta y el valor\n",
        "\n",
        "for label,value in numbers.iteritems():\n",
        "  numbers.set_value\n",
        "  (label, value+2)\n",
        "nuumbers"
      ],
      "execution_count": null,
      "outputs": [
        {
          "output_type": "error",
          "ename": "AttributeError",
          "evalue": "ignored",
          "traceback": [
            "\u001b[0;31m---------------------------------------------------------------------------\u001b[0m",
            "\u001b[0;31mAttributeError\u001b[0m                            Traceback (most recent call last)",
            "\u001b[0;32m<ipython-input-15-77d8e2ec6e9e>\u001b[0m in \u001b[0;36m<module>\u001b[0;34m()\u001b[0m\n\u001b[1;32m      3\u001b[0m \u001b[0;34m\u001b[0m\u001b[0m\n\u001b[1;32m      4\u001b[0m \u001b[0;32mfor\u001b[0m \u001b[0mlabel\u001b[0m\u001b[0;34m,\u001b[0m\u001b[0mvalue\u001b[0m \u001b[0;32min\u001b[0m \u001b[0mnumbers\u001b[0m\u001b[0;34m.\u001b[0m\u001b[0miteritems\u001b[0m\u001b[0;34m(\u001b[0m\u001b[0;34m)\u001b[0m\u001b[0;34m:\u001b[0m\u001b[0;34m\u001b[0m\u001b[0;34m\u001b[0m\u001b[0m\n\u001b[0;32m----> 5\u001b[0;31m   \u001b[0mnumbers\u001b[0m\u001b[0;34m.\u001b[0m\u001b[0mset_value\u001b[0m\u001b[0;34m(\u001b[0m\u001b[0mlabel\u001b[0m\u001b[0;34m,\u001b[0m\u001b[0mvalue\u001b[0m\u001b[0;34m+\u001b[0m\u001b[0;36m2\u001b[0m\u001b[0;34m)\u001b[0m\u001b[0;34m\u001b[0m\u001b[0;34m\u001b[0m\u001b[0m\n\u001b[0m\u001b[1;32m      6\u001b[0m \u001b[0mnuumbers\u001b[0m\u001b[0;34m\u001b[0m\u001b[0;34m\u001b[0m\u001b[0m\n",
            "\u001b[0;32m/usr/local/lib/python3.6/dist-packages/pandas/core/generic.py\u001b[0m in \u001b[0;36m__getattr__\u001b[0;34m(self, name)\u001b[0m\n\u001b[1;32m   5139\u001b[0m             \u001b[0;32mif\u001b[0m \u001b[0mself\u001b[0m\u001b[0;34m.\u001b[0m\u001b[0m_info_axis\u001b[0m\u001b[0;34m.\u001b[0m\u001b[0m_can_hold_identifiers_and_holds_name\u001b[0m\u001b[0;34m(\u001b[0m\u001b[0mname\u001b[0m\u001b[0;34m)\u001b[0m\u001b[0;34m:\u001b[0m\u001b[0;34m\u001b[0m\u001b[0;34m\u001b[0m\u001b[0m\n\u001b[1;32m   5140\u001b[0m                 \u001b[0;32mreturn\u001b[0m \u001b[0mself\u001b[0m\u001b[0;34m[\u001b[0m\u001b[0mname\u001b[0m\u001b[0;34m]\u001b[0m\u001b[0;34m\u001b[0m\u001b[0;34m\u001b[0m\u001b[0m\n\u001b[0;32m-> 5141\u001b[0;31m             \u001b[0;32mreturn\u001b[0m \u001b[0mobject\u001b[0m\u001b[0;34m.\u001b[0m\u001b[0m__getattribute__\u001b[0m\u001b[0;34m(\u001b[0m\u001b[0mself\u001b[0m\u001b[0;34m,\u001b[0m \u001b[0mname\u001b[0m\u001b[0;34m)\u001b[0m\u001b[0;34m\u001b[0m\u001b[0;34m\u001b[0m\u001b[0m\n\u001b[0m\u001b[1;32m   5142\u001b[0m \u001b[0;34m\u001b[0m\u001b[0m\n\u001b[1;32m   5143\u001b[0m     \u001b[0;32mdef\u001b[0m \u001b[0m__setattr__\u001b[0m\u001b[0;34m(\u001b[0m\u001b[0mself\u001b[0m\u001b[0;34m,\u001b[0m \u001b[0mname\u001b[0m\u001b[0;34m:\u001b[0m \u001b[0mstr\u001b[0m\u001b[0;34m,\u001b[0m \u001b[0mvalue\u001b[0m\u001b[0;34m)\u001b[0m \u001b[0;34m->\u001b[0m \u001b[0;32mNone\u001b[0m\u001b[0;34m:\u001b[0m\u001b[0;34m\u001b[0m\u001b[0;34m\u001b[0m\u001b[0m\n",
            "\u001b[0;31mAttributeError\u001b[0m: 'Series' object has no attribute 'set_value'"
          ]
        }
      ]
    },
    {
      "cell_type": "code",
      "metadata": {
        "colab": {
          "base_uri": "https://localhost:8080/"
        },
        "id": "CPfDFZVKFvau",
        "outputId": "f6bd850d-9f0a-4ff4-d05e-1911d6c6dc8b"
      },
      "source": [
        "##comparemos cual es mas rapida de los demas\n",
        "%%timeit -n 10\n",
        "s=pd.Series(np.random.randint(0,1000,1000))\n",
        "for label, value in s.iteritems():\n",
        "  s.iloc[label]=value+2"
      ],
      "execution_count": null,
      "outputs": [
        {
          "output_type": "stream",
          "text": [
            "10 loops, best of 3: 69.1 ms per loop\n"
          ],
          "name": "stdout"
        }
      ]
    },
    {
      "cell_type": "code",
      "metadata": {
        "colab": {
          "base_uri": "https://localhost:8080/"
        },
        "id": "ZDJb8fTAGr-G",
        "outputId": "83faa44e-ac50-47f4-f19e-33c757bb7fdb"
      },
      "source": [
        "##comparemos cual es mas rapida de los demas\n",
        "%%timeit -n 10\n",
        "s=pd.Series(np.random.randint(0,1000,1000))\n",
        "s+=2"
      ],
      "execution_count": null,
      "outputs": [
        {
          "output_type": "stream",
          "text": [
            "10 loops, best of 3: 328 µs per loop\n"
          ],
          "name": "stdout"
        }
      ]
    },
    {
      "cell_type": "code",
      "metadata": {
        "colab": {
          "base_uri": "https://localhost:8080/"
        },
        "id": "LO_GyudUgGaZ",
        "outputId": "87076cc3-46d4-4689-ca08-99892a6261b0"
      },
      "source": [
        "##.iloc no solo sirve para cambiar datos, si no para crear nuevos, en caso de que el index que le pasemos no exista\n",
        "# Pandas tambien cambiara automaticamente el tipo de datos a uno mas adecuado\n",
        "#veamos...\n",
        "\n",
        "s=pd.Series([1,2,3])\n",
        "s.loc['History']=102\n",
        "s"
      ],
      "execution_count": null,
      "outputs": [
        {
          "output_type": "execute_result",
          "data": {
            "text/plain": [
              "0            1\n",
              "1            2\n",
              "2            3\n",
              "History    102\n",
              "dtype: int64"
            ]
          },
          "metadata": {
            "tags": []
          },
          "execution_count": 24
        }
      ]
    },
    {
      "cell_type": "code",
      "metadata": {
        "colab": {
          "base_uri": "https://localhost:8080/"
        },
        "id": "68C6ou8hgzVp",
        "outputId": "3da5ffe9-4a4d-4ce8-d1a3-b408f82683c0"
      },
      "source": [
        "##Bueno y ahora nos preguntaresmo que sucedera si el index es repetido? esto mostrará que\n",
        "# es diferente de las bases de datos relacionales\n",
        "\n",
        "students_classes=pd.Series({'Alice': 'Physics',\n",
        "                           'Jack': 'Chemistry',\n",
        "                           'Molly': 'English',\n",
        "                           'Sam': 'History'})\n",
        "students_classes                          "
      ],
      "execution_count": null,
      "outputs": [
        {
          "output_type": "execute_result",
          "data": {
            "text/plain": [
              "Alice      Physics\n",
              "Jack     Chemistry\n",
              "Molly      English\n",
              "Sam        History\n",
              "dtype: object"
            ]
          },
          "metadata": {
            "tags": []
          },
          "execution_count": 26
        }
      ]
    },
    {
      "cell_type": "code",
      "metadata": {
        "colab": {
          "base_uri": "https://localhost:8080/"
        },
        "id": "oLCAsAx5hy5Z",
        "outputId": "664366e2-dee8-4dbe-adae-1da4b65a86f7"
      },
      "source": [
        "##ahora crearemos unas clases donde el indice es el mismo estudiante\n",
        "kelly_classes=pd.Series(['Philosophy','Arts','Math'], index=['Kelly','Kelly','Kelly'])\n",
        "kelly_classes"
      ],
      "execution_count": null,
      "outputs": [
        {
          "output_type": "execute_result",
          "data": {
            "text/plain": [
              "Kelly    Philosophy\n",
              "Kelly          Arts\n",
              "Kelly          Math\n",
              "dtype: object"
            ]
          },
          "metadata": {
            "tags": []
          },
          "execution_count": 27
        }
      ]
    },
    {
      "cell_type": "code",
      "metadata": {
        "colab": {
          "base_uri": "https://localhost:8080/"
        },
        "id": "88T3DlTLiUhC",
        "outputId": "ce3142ec-e544-4e4d-e893-d41836fe6a09"
      },
      "source": [
        "all_students_classes=students_classes.append(kelly_classes)\n",
        "all_students_classes"
      ],
      "execution_count": null,
      "outputs": [
        {
          "output_type": "execute_result",
          "data": {
            "text/plain": [
              "Alice       Physics\n",
              "Jack      Chemistry\n",
              "Molly       English\n",
              "Sam         History\n",
              "Kelly    Philosophy\n",
              "Kelly          Arts\n",
              "Kelly          Math\n",
              "dtype: object"
            ]
          },
          "metadata": {
            "tags": []
          },
          "execution_count": 29
        }
      ]
    },
    {
      "cell_type": "code",
      "metadata": {
        "colab": {
          "base_uri": "https://localhost:8080/"
        },
        "id": "TVbwnvA1ijTJ",
        "outputId": "6ed46176-0242-463b-d8b3-545082a182be"
      },
      "source": [
        "##Hay que saber que append, me devuelve un nuevo objeto, sin modificar el original\n",
        "#segundo, me va a dar la respuesta con el mejor data type posible, veamos:\n",
        "students_classes"
      ],
      "execution_count": null,
      "outputs": [
        {
          "output_type": "execute_result",
          "data": {
            "text/plain": [
              "Alice      Physics\n",
              "Jack     Chemistry\n",
              "Molly      English\n",
              "Sam        History\n",
              "dtype: object"
            ]
          },
          "metadata": {
            "tags": []
          },
          "execution_count": 30
        }
      ]
    },
    {
      "cell_type": "code",
      "metadata": {
        "colab": {
          "base_uri": "https://localhost:8080/"
        },
        "id": "N7NHyOnGkwfm",
        "outputId": "a9951453-8cba-45f4-f83c-95805dbc9f32"
      },
      "source": [
        "#ahora observemos, que sucede cuando indexamos con Kelly\n",
        "all_students_classes.loc['Kelly'] ##conseguimos una serie"
      ],
      "execution_count": null,
      "outputs": [
        {
          "output_type": "execute_result",
          "data": {
            "text/plain": [
              "Kelly    Philosophy\n",
              "Kelly          Arts\n",
              "Kelly          Math\n",
              "dtype: object"
            ]
          },
          "metadata": {
            "tags": []
          },
          "execution_count": 31
        }
      ]
    }
  ]
}