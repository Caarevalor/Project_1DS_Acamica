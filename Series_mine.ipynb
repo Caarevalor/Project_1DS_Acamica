{
  "nbformat": 4,
  "nbformat_minor": 0,
  "metadata": {
    "colab": {
      "name": "Series_mine.ipynb",
      "provenance": [],
      "authorship_tag": "ABX9TyNbmowqpkJZFhKr0YlgLr+u",
      "include_colab_link": true
    },
    "kernelspec": {
      "name": "python3",
      "display_name": "Python 3"
    }
  },
  "cells": [
    {
      "cell_type": "markdown",
      "metadata": {
        "id": "view-in-github",
        "colab_type": "text"
      },
      "source": [
        "<a href=\"https://colab.research.google.com/github/Caarevalor/Python_Datascience_Notebooks/blob/main/Series_mine.ipynb\" target=\"_parent\"><img src=\"https://colab.research.google.com/assets/colab-badge.svg\" alt=\"Open In Colab\"/></a>"
      ]
    },
    {
      "cell_type": "markdown",
      "metadata": {
        "id": "TJXWB0zMvSIh"
      },
      "source": [
        "# Series con Pandas"
      ]
    },
    {
      "cell_type": "code",
      "metadata": {
        "id": "zVfPhGHuvP4E"
      },
      "source": [
        "import pandas as pd\n"
      ],
      "execution_count": null,
      "outputs": []
    },
    {
      "cell_type": "code",
      "metadata": {
        "colab": {
          "base_uri": "https://localhost:8080/"
        },
        "id": "o4Sn7BoQvRst",
        "outputId": "02273ef4-a3b9-4b0d-c9cd-76b6a8b79124"
      },
      "source": [
        "students=['Alice','Jack','Molly']\n",
        "pd.Series(students)"
      ],
      "execution_count": null,
      "outputs": [
        {
          "output_type": "execute_result",
          "data": {
            "text/plain": [
              "0    Alice\n",
              "1     Jack\n",
              "2    Molly\n",
              "dtype: object"
            ]
          },
          "metadata": {
            "tags": []
          },
          "execution_count": 2
        }
      ]
    },
    {
      "cell_type": "code",
      "metadata": {
        "colab": {
          "base_uri": "https://localhost:8080/"
        },
        "id": "qW7BjDc9wYIv",
        "outputId": "c523924f-2a77-4365-bb5d-750e471c3428"
      },
      "source": [
        "#ahora probaremos con una lista de numeros y arrojara int64 como dtype\n",
        "numbers=[2,3,4]\n",
        "pd.Series(numbers)"
      ],
      "execution_count": null,
      "outputs": [
        {
          "output_type": "execute_result",
          "data": {
            "text/plain": [
              "0    2\n",
              "1    3\n",
              "2    4\n",
              "dtype: int64"
            ]
          },
          "metadata": {
            "tags": []
          },
          "execution_count": 3
        }
      ]
    },
    {
      "cell_type": "code",
      "metadata": {
        "colab": {
          "base_uri": "https://localhost:8080/"
        },
        "id": "vKB8DF4vwiBC",
        "outputId": "c85b56fb-ec5f-43f5-ce2e-6662ecd2b99e"
      },
      "source": [
        "##ahora veamos que hace pandas cuando le introducimos un dato none type con strings\n",
        "students=['Alice','Jack',None]\n",
        "pd.Series(students)"
      ],
      "execution_count": null,
      "outputs": [
        {
          "output_type": "execute_result",
          "data": {
            "text/plain": [
              "0    Alice\n",
              "1     Jack\n",
              "2     None\n",
              "dtype: object"
            ]
          },
          "metadata": {
            "tags": []
          },
          "execution_count": 4
        }
      ]
    },
    {
      "cell_type": "code",
      "metadata": {
        "colab": {
          "base_uri": "https://localhost:8080/"
        },
        "id": "48ptjl41xFrC",
        "outputId": "a570f373-4a96-42e4-e572-bb959c1860c0"
      },
      "source": [
        "#en el caso cn una lista de numeros aplica Not a number, como veremos a cotinuacion \n",
        "numbers=[2,3,None]\n",
        "pd.Series(numbers)"
      ],
      "execution_count": null,
      "outputs": [
        {
          "output_type": "execute_result",
          "data": {
            "text/plain": [
              "0    2.0\n",
              "1    3.0\n",
              "2    NaN\n",
              "dtype: float64"
            ]
          },
          "metadata": {
            "tags": []
          },
          "execution_count": 5
        }
      ]
    },
    {
      "cell_type": "code",
      "metadata": {
        "colab": {
          "base_uri": "https://localhost:8080/"
        },
        "id": "1OnZ_mOmycJ_",
        "outputId": "bb117dd0-80f8-41e7-9428-19e937de84cf"
      },
      "source": [
        "import numpy as np\n",
        "np.nan == None"
      ],
      "execution_count": null,
      "outputs": [
        {
          "output_type": "execute_result",
          "data": {
            "text/plain": [
              "False"
            ]
          },
          "metadata": {
            "tags": []
          },
          "execution_count": 7
        }
      ]
    },
    {
      "cell_type": "code",
      "metadata": {
        "colab": {
          "base_uri": "https://localhost:8080/"
        },
        "id": "yUkPh-wLywPl",
        "outputId": "b76fc3c3-917b-46bc-b356-a6d2a7d7dbd7"
      },
      "source": [
        "#para comprobar que hay la igualdad np.nan==np.nan hay que hacer uso de funciones especiales como:\n",
        "np.isnan(np.nan)\n",
        "##la razon por la que NaN /= de None es debido a cosas de eficiencia puesto que NaN si es un numero"
      ],
      "execution_count": null,
      "outputs": [
        {
          "output_type": "execute_result",
          "data": {
            "text/plain": [
              "True"
            ]
          },
          "metadata": {
            "tags": []
          },
          "execution_count": 8
        }
      ]
    },
    {
      "cell_type": "code",
      "metadata": {
        "colab": {
          "base_uri": "https://localhost:8080/"
        },
        "id": "beJmXt7Dzk-V",
        "outputId": "b3a26b8c-c325-4872-a3ab-ec440e804ed4"
      },
      "source": [
        "students={'Alice': 'Physics',\n",
        "          'Jack': 'Chemistry',\n",
        "          'Molly': 'English'}\n",
        "s=pd.Series(students)          \n",
        "s"
      ],
      "execution_count": null,
      "outputs": [
        {
          "output_type": "execute_result",
          "data": {
            "text/plain": [
              "Alice      Physics\n",
              "Jack     Chemistry\n",
              "Molly      English\n",
              "dtype: object"
            ]
          },
          "metadata": {
            "tags": []
          },
          "execution_count": 10
        }
      ]
    },
    {
      "cell_type": "code",
      "metadata": {
        "colab": {
          "base_uri": "https://localhost:8080/"
        },
        "id": "nWNFnEAb0T37",
        "outputId": "112b1e44-6665-4574-93d1-ba65b61b22bf"
      },
      "source": [
        "s.index"
      ],
      "execution_count": null,
      "outputs": [
        {
          "output_type": "execute_result",
          "data": {
            "text/plain": [
              "Index(['Alice', 'Jack', 'Molly'], dtype='object')"
            ]
          },
          "metadata": {
            "tags": []
          },
          "execution_count": 11
        }
      ]
    },
    {
      "cell_type": "code",
      "metadata": {
        "colab": {
          "base_uri": "https://localhost:8080/"
        },
        "id": "rArKs8aq0lWv",
        "outputId": "a3399207-b86a-4714-8bb5-d5cff21ee97f"
      },
      "source": [
        "#se puede hacer uso de diferentes tipos de elementos, no solo strings, por ejemplo tuplas\n",
        "students=[('Alice','Brown'),('Jack','White'),('Molly','Green')]\n",
        "pd.Series(students)"
      ],
      "execution_count": null,
      "outputs": [
        {
          "output_type": "execute_result",
          "data": {
            "text/plain": [
              "0    (Alice, Brown)\n",
              "1     (Jack, White)\n",
              "2    (Molly, Green)\n",
              "dtype: object"
            ]
          },
          "metadata": {
            "tags": []
          },
          "execution_count": 12
        }
      ]
    },
    {
      "cell_type": "code",
      "metadata": {
        "colab": {
          "base_uri": "https://localhost:8080/"
        },
        "id": "qndGgDSw1J6N",
        "outputId": "9b62fbf4-c41b-4dc6-81e4-f60d366f35bd"
      },
      "source": [
        "##tambien podemos pasar directamente nuestro index, como argumento y separarlo de los datos\n",
        "s=pd.Series(['Physics','Chemistry','English'],index=['Alice','Jack','Molly'])\n",
        "s"
      ],
      "execution_count": null,
      "outputs": [
        {
          "output_type": "execute_result",
          "data": {
            "text/plain": [
              "Alice      Physics\n",
              "Jack     Chemistry\n",
              "Molly      English\n",
              "dtype: object"
            ]
          },
          "metadata": {
            "tags": []
          },
          "execution_count": 13
        }
      ]
    },
    {
      "cell_type": "code",
      "metadata": {
        "colab": {
          "base_uri": "https://localhost:8080/"
        },
        "id": "lqG1-8hm15Vf",
        "outputId": "bd49e497-cf8d-4554-af57-3f809df2ea28"
      },
      "source": [
        "#Ahora que hace Pandas cuando los keys no corresponden con los datos, cuando el valor de index es mayor o menor, se prioriza el index\n",
        "#y se llena con NaN or None\n",
        "students_scores={'Alice': 'Physics',\n",
        "                 'Jack': 'Chemistry',\n",
        "                 'Molly': 'English'}\n",
        "s=pd.Series(['Physics','Chemistry','English'],index=['Alice','Jack','Sam'])                 \n",
        "s"
      ],
      "execution_count": null,
      "outputs": [
        {
          "output_type": "execute_result",
          "data": {
            "text/plain": [
              "Alice      Physics\n",
              "Jack     Chemistry\n",
              "Sam        English\n",
              "dtype: object"
            ]
          },
          "metadata": {
            "tags": []
          },
          "execution_count": 14
        }
      ]
    }
  ]
}