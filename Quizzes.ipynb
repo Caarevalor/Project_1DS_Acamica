{
  "nbformat": 4,
  "nbformat_minor": 0,
  "metadata": {
    "colab": {
      "name": "Quizzes.ipynb",
      "provenance": [],
      "mount_file_id": "1GqfN1gxnH5ElzuQ_HpOSxFe85L4J9yEr",
      "authorship_tag": "ABX9TyNHqfzWt0MEWn7EE1IUgIaJ",
      "include_colab_link": true
    },
    "kernelspec": {
      "name": "python3",
      "display_name": "Python 3"
    }
  },
  "cells": [
    {
      "cell_type": "markdown",
      "metadata": {
        "id": "view-in-github",
        "colab_type": "text"
      },
      "source": [
        "<a href=\"https://colab.research.google.com/github/Caarevalor/Python_Datascience_Notebooks/blob/main/Quizzes.ipynb\" target=\"_parent\"><img src=\"https://colab.research.google.com/assets/colab-badge.svg\" alt=\"Open In Colab\"/></a>"
      ]
    },
    {
      "cell_type": "markdown",
      "metadata": {
        "id": "JgX62RrdCulM"
      },
      "source": [
        "# Quiz 1\n"
      ]
    },
    {
      "cell_type": "code",
      "metadata": {
        "colab": {
          "base_uri": "https://localhost:8080/"
        },
        "id": "iZodQP3XCuBW",
        "outputId": "0a08e8a5-d980-41b0-df39-e3bf6fb7025e"
      },
      "source": [
        "import pandas as pd\n",
        "\n",
        "sdata = {'Ohio': 35000, 'Texas': 71000, 'Oregon': 16000, 'Utah': 5000}\n",
        "obj1 = pd.Series(sdata)\n",
        "states = ['California', 'Ohio', 'Oregon', 'Texas']\n",
        "obj2 = pd.Series(sdata, index=states)\n",
        "obj3 = pd.isnull(obj2)\n",
        "\n",
        "#a\n",
        "print(obj3['California'])\n",
        "#b\n",
        "import math\n",
        "print(math.isnan(obj2['California']))\n",
        "#c\n",
        "x=obj2['California']\n",
        "print(obj2['California']!=x)\n",
        "#d\n",
        "obj2['California']== None"
      ],
      "execution_count": null,
      "outputs": [
        {
          "output_type": "stream",
          "text": [
            "True\n",
            "True\n",
            "True\n"
          ],
          "name": "stdout"
        },
        {
          "output_type": "execute_result",
          "data": {
            "text/plain": [
              "False"
            ]
          },
          "metadata": {
            "tags": []
          },
          "execution_count": 20
        }
      ]
    },
    {
      "cell_type": "code",
      "metadata": {
        "colab": {
          "base_uri": "https://localhost:8080/"
        },
        "id": "NQdUS0koFVSD",
        "outputId": "c2634189-927e-4db2-e875-4750f318b4fc"
      },
      "source": [
        "#2\n",
        "import pandas as pd\n",
        "d = {\n",
        "    '1': 'Alice',\n",
        "    '2': 'Bob',\n",
        "    '3': 'Rita',\n",
        "    '4': 'Molly',\n",
        "    '5': 'Ryan'\n",
        "}\n",
        "S = pd.Series(d)\n",
        "S.iloc[0:3]\n"
      ],
      "execution_count": null,
      "outputs": [
        {
          "output_type": "execute_result",
          "data": {
            "text/plain": [
              "1    Alice\n",
              "2      Bob\n",
              "3     Rita\n",
              "dtype: object"
            ]
          },
          "metadata": {
            "tags": []
          },
          "execution_count": 28
        }
      ]
    },
    {
      "cell_type": "markdown",
      "metadata": {
        "id": "tKAaW5Nh-eqn"
      },
      "source": [
        "\n",
        "df.rename(mapper = lambda x: x.upper(), axis = 1)"
      ]
    },
    {
      "cell_type": "markdown",
      "metadata": {
        "id": "Y7n78wOH_nnb"
      },
      "source": [
        "df.where(df['toefl score'] > 105)"
      ]
    },
    {
      "cell_type": "markdown",
      "metadata": {
        "id": "ADAjLTpW_xu2"
      },
      "source": [
        "\n",
        "All of these work"
      ]
    },
    {
      "cell_type": "markdown",
      "metadata": {
        "id": "yF8dmKkSAlJI"
      },
      "source": [
        "\n",
        "df.drop('two')"
      ]
    },
    {
      "cell_type": "code",
      "metadata": {
        "colab": {
          "base_uri": "https://localhost:8080/"
        },
        "id": "bmpR2WlyHwYv",
        "outputId": "3d8d1ec2-b1f3-47ed-d364-a6879fa33284"
      },
      "source": [
        "#7\n",
        "import pandas as pd\n",
        "s1 = pd.Series({1: 'Alice', 2: 'Jack', 3: 'Molly'})\n",
        "s2 = pd.Series({'Alice': 1, 'Jack': 2, 'Molly': 3})\n",
        "#a\n",
        "print(s1.loc[1])\n",
        "#b\n",
        "#s2.loc[1]\n",
        "#c\n",
        "print(s2.iloc[1])\n",
        "#d\n",
        "print(s2[1])"
      ],
      "execution_count": null,
      "outputs": [
        {
          "output_type": "stream",
          "text": [
            "Alice\n",
            "2\n",
            "2\n"
          ],
          "name": "stdout"
        }
      ]
    },
    {
      "cell_type": "code",
      "metadata": {
        "colab": {
          "base_uri": "https://localhost:8080/"
        },
        "id": "nyGvzrz-Jq2h",
        "outputId": "36d873d2-b0d8-4c98-e2e5-f51734bf0396"
      },
      "source": [
        "##8\n",
        "#Setence\n",
        "\n",
        "#If s is a pd.Series object, then we can use s.loc[label] to get all data where the index is equal to label."
      ],
      "execution_count": null,
      "outputs": [
        {
          "output_type": "execute_result",
          "data": {
            "text/plain": [
              "<zip at 0x7f0f9ab90588>"
            ]
          },
          "metadata": {
            "tags": []
          },
          "execution_count": 34
        }
      ]
    },
    {
      "cell_type": "markdown",
      "metadata": {
        "id": "r5N8UkbMBpEn"
      },
      "source": [
        "(df['toefl score'] > 105) & (df['toefl score'] < 115)"
      ]
    },
    {
      "cell_type": "markdown",
      "metadata": {
        "id": "8nJw2yAmBv16"
      },
      "source": [
        "df['Mathematics']\n",
        "---> df.T['Mathematics']\n",
        "\n"
      ]
    },
    {
      "cell_type": "markdown",
      "metadata": {
        "id": "EWfhgGn2NDAw"
      },
      "source": [
        "# Assignament"
      ]
    },
    {
      "cell_type": "markdown",
      "metadata": {
        "id": "42s3v96Cwa6t"
      },
      "source": [
        "## Punto 1\n",
        "\n",
        "Write a function called proportion_of_education which returns the proportion of children in the dataset who had a mother with the education levels equal to less than high school (<12), high school (12), more than high school but not a college graduate (>12) and college degree.\n",
        "\n",
        "This function should return a dictionary in the form of (use the correct numbers, do not round numbers):\n",
        "\n",
        "    {\"less than high school\":0.2,\n",
        "    \"high school\":0.4,\n",
        "    \"more than high school but not college\":0.2,\n",
        "    \"college\":0.2}"
      ]
    },
    {
      "cell_type": "code",
      "metadata": {
        "colab": {
          "base_uri": "https://localhost:8080/"
        },
        "id": "t8aRHDHBNMwv",
        "outputId": "416abfda-cd69-4a10-e8ce-6a038378bbc3"
      },
      "source": [
        "import pandas as pd\n",
        "df=pd.read_csv('/content/drive/MyDrive/Python_for_Data_Science/Week_2/datasets/NISPUF17.csv')\n",
        "#Hay 4 grupos <12(1),=12(2), >12(1), college graduate(4)\n",
        "#df['EDUC1']\n",
        "a=df.shape[0]           #longitud del arreglo\n",
        "prop_1=len(df[df['EDUC1']==1])/a    #mascara y filtrado de aquellos que estan en el grupo 1\n",
        "prop_2=len(df[df['EDUC1']==2])/a    #mascara y filtrado de aquellos que estan en el grupo 2\n",
        "prop_3=len(df[df['EDUC1']==3])/a    #mascara y filtrado de aquellos que estan en el grupo 3\n",
        "prop_4=len(df[df['EDUC1']==4])/a    #mascara y filtrado de aquellos que estan en el grupo 3\n",
        "solution= {\"less than high school\":prop_1,\n",
        "            \"high school\":prop_2,\n",
        "            \"more than high school but not college\":prop_3,\n",
        "            \"college\":prop_4}    \n",
        "solution"
      ],
      "execution_count": null,
      "outputs": [
        {
          "output_type": "execute_result",
          "data": {
            "text/plain": [
              "{'college': 0.47974705779026877,\n",
              " 'high school': 0.172352011241876,\n",
              " 'less than high school': 0.10202002459160373,\n",
              " 'more than high school but not college': 0.24588090637625154}"
            ]
          },
          "metadata": {
            "tags": []
          },
          "execution_count": 2
        }
      ]
    },
    {
      "cell_type": "markdown",
      "metadata": {
        "id": "kvlpk7Ndwqxs"
      },
      "source": [
        "## Punto 2\n",
        "\n",
        "Let's explore the relationship between being fed breastmilk as a child and getting a seasonal influenza vaccine from a healthcare provider. Return a tuple of the average number of influenza vaccines for those children we know received breastmilk as a child and those who know did not.\n",
        "\n",
        "This function should return a tuple in the form (use the correct numbers:\n",
        "\n",
        "(2.5, 0.1)"
      ]
    },
    {
      "cell_type": "code",
      "metadata": {
        "colab": {
          "base_uri": "https://localhost:8080/"
        },
        "id": "6LLMgSqgvuDA",
        "outputId": "c9efda59-e91c-4c23-fad5-66e105ef7bf6"
      },
      "source": [
        "import pandas as pd\n",
        "df=pd.read_csv('/content/drive/MyDrive/Python_for_Data_Science/Week_2/datasets/NISPUF17.csv')\n",
        "#Hay 4 grupos tambien Si (1),No (2), No se sabe (3), Desaparecido(4)\n",
        "df['P_NUMFLU']=df['P_NUMFLU'].dropna()\n",
        "alt_a=df[df['CBF_01']==1]\n",
        "alt_b=df[df['CBF_01']==2]\n",
        "part_a= alt_a['P_NUMFLU'].mean()\n",
        "part_b= alt_b['P_NUMFLU'].mean()\n",
        "solution = (part_a,part_b)\n",
        "solution"
      ],
      "execution_count": null,
      "outputs": [
        {
          "output_type": "execute_result",
          "data": {
            "text/plain": [
              "(1.8799187420058687, 1.5963945918878317)"
            ]
          },
          "metadata": {
            "tags": []
          },
          "execution_count": 1
        }
      ]
    },
    {
      "cell_type": "markdown",
      "metadata": {
        "id": "VgkKsKQ3oPZN"
      },
      "source": [
        "## Punto 3\n",
        "\n",
        "It would be interesting to see if there is any evidence of a link between vaccine effectiveness and sex of the child. Calculate the ratio of the number of children who contracted chickenpox but were vaccinated against it (at least one varicella dose) versus those who were vaccinated but did not contract chicken pox. Return results by sex. \n",
        "\n",
        "*This function should return a dictionary in the form of (use the correct numbers):* \n",
        "```\n",
        "    {\"male\":0.2,\n",
        "    \"female\":0.4}\n",
        "```\n",
        "\n",
        "Note: To aid in verification, the `chickenpox_by_sex()['female']` value the autograder is looking for starts with the digits `0.0077`."
      ]
    },
    {
      "cell_type": "code",
      "metadata": {
        "id": "sCdcJg-8oPZP"
      },
      "source": [
        "import pandas as pd\n",
        "df=pd.read_csv('/content/drive/MyDrive/Python_for_Data_Science/Week_2/datasets/NISPUF17.csv')\n",
        "#Hay 2 grupos Niño (1),Niña (2)\n",
        "tabla_male=df[df['SEX']==1]\n",
        "tabla_female=df[df['SEX']==2]\n",
        "#Si tuvo chickenpox(varicela) (1)\n",
        "male_ratio=len(tabla_male[(tabla_male['P_NUMVRC']>0) & (tabla_male['HAD_CPOX']==1)])/len(tabla_male[(tabla_male['P_NUMVRC']>0) & (tabla_male['HAD_CPOX']==2)])\n",
        "female_ratio=len(tabla_female[(tabla_female['P_NUMVRC']>0) & (tabla_female['HAD_CPOX']==1)])/len(tabla_female[(tabla_female['P_NUMVRC']>0) & (tabla_female['HAD_CPOX']==2)])\n",
        "female_ratio\n",
        "solution= {\"male\":male_ratio,\n",
        "            \"female\":female_ratio} \n"
      ],
      "execution_count": null,
      "outputs": []
    },
    {
      "cell_type": "markdown",
      "metadata": {
        "id": "-KuenDm1xYzn"
      },
      "source": [
        "## Question 4\n",
        "A correlation is a statistical relationship between two variables. If we wanted to know if vaccines work, we might look at the correlation between the use of the vaccine and whether it results in prevention of the infection or disease [1]. In this question, you are to see if there is a correlation between having had the chicken pox and the number of chickenpox vaccine doses given (varicella).\n",
        "\n",
        "Some notes on interpreting the answer. The `had_chickenpox_column` is either `1` (for yes) or `2` (for no), and the `num_chickenpox_vaccine_column` is the number of doses a child has been given of the varicella vaccine. A positive correlation (e.g., `corr > 0`) means that an increase in `had_chickenpox_column` (which means more no’s) would also increase the values of `num_chickenpox_vaccine_column` (which means more doses of vaccine). If there is a negative correlation (e.g., `corr < 0`), it indicates that having had chickenpox is related to an increase in the number of vaccine doses.\n",
        "\n",
        "Also, `pval` is the probability that we observe a correlation between `had_chickenpox_column` and `num_chickenpox_vaccine_column` which is greater than or equal to a particular value occurred by chance. A small `pval` means that the observed correlation is highly unlikely to occur by chance. In this case, `pval` should be very small (will end in `e-18` indicating a very small number).\n",
        "\n",
        "[1] This isn’t really the full picture, since we are not looking at when the dose was given. It’s possible that children had chickenpox and then their parents went to get them the vaccine. Does this dataset have the data we would need to investigate the timing of the dose?"
      ]
    },
    {
      "cell_type": "code",
      "metadata": {
        "colab": {
          "base_uri": "https://localhost:8080/"
        },
        "id": "xfulmiBwxjKh",
        "outputId": "d011930a-189d-4ff2-8cdc-79538bc76427"
      },
      "source": [
        "def corr_chickenpox():\n",
        "    import scipy.stats as stats\n",
        "    import numpy as np\n",
        "    import pandas as pd\n",
        "    \n",
        "    # this is just an example dataframe\n",
        "    df=pd.DataFrame({\"had_chickenpox_column\":np.random.randint(1,3,size=(100)),\n",
        "                   \"num_chickenpox_vaccine_column\":np.random.randint(0,6,size=(100))})\n",
        "\n",
        "    # here is some stub code to actually run the correlation\n",
        "    corr, pval=stats.pearsonr(df[\"had_chickenpox_column\"],df[\"num_chickenpox_vaccine_column\"])\n",
        "    \n",
        "    # just return the correlation\n",
        "    df=pd.read_csv('/content/drive/MyDrive/Python_for_Data_Science/Week_2/datasets/NISPUF17.csv')\n",
        "    df= df[(df[\"P_NUMVRC\"].notnull()) & (df[\"HAD_CPOX\"]<3)]\n",
        "    corr, pval= stats.pearsonr(df[\"HAD_CPOX\"],df[\"P_NUMVRC\"])\n",
        "    return corr\n",
        "\n",
        "    # YOUR CODE HERE\n",
        "    raise NotImplementedError()\n",
        "corr_chickenpox()    "
      ],
      "execution_count": null,
      "outputs": [
        {
          "output_type": "execute_result",
          "data": {
            "text/plain": [
              "0.07044873460148046"
            ]
          },
          "metadata": {
            "tags": []
          },
          "execution_count": 6
        }
      ]
    }
  ]
}